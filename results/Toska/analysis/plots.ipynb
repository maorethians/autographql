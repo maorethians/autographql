{
 "cells": [
  {
   "cell_type": "code",
   "execution_count": 1,
   "metadata": {},
   "outputs": [],
   "source": [
    "import matplotlib.pyplot as plt\n",
    "import pandas as pd\n",
    "%matplotlib inline"
   ]
  },
  {
   "attachments": {},
   "cell_type": "markdown",
   "metadata": {},
   "source": [
    "### Production"
   ]
  },
  {
   "cell_type": "code",
   "execution_count": 2,
   "metadata": {},
   "outputs": [],
   "source": [
    "query_entries_prod = pd.read_csv('../schemaCoverageDictionary.csv')\n",
    "query_entries_prod = query_entries_prod[query_entries_prod.schemaTuple.str.contains(\"query\")]"
   ]
  },
  {
   "cell_type": "code",
   "execution_count": 3,
   "metadata": {},
   "outputs": [
    {
     "data": {
      "text/html": [
       "<div>\n",
       "<style scoped>\n",
       "    .dataframe tbody tr th:only-of-type {\n",
       "        vertical-align: middle;\n",
       "    }\n",
       "\n",
       "    .dataframe tbody tr th {\n",
       "        vertical-align: top;\n",
       "    }\n",
       "\n",
       "    .dataframe thead th {\n",
       "        text-align: right;\n",
       "    }\n",
       "</style>\n",
       "<table border=\"1\" class=\"dataframe\">\n",
       "  <thead>\n",
       "    <tr style=\"text-align: right;\">\n",
       "      <th></th>\n",
       "      <th>schemaTuple</th>\n",
       "      <th>visited</th>\n",
       "      <th>timesVisited</th>\n",
       "      <th>id</th>\n",
       "    </tr>\n",
       "  </thead>\n",
       "  <tbody>\n",
       "    <tr>\n",
       "      <th>6</th>\n",
       "      <td>queryinterval</td>\n",
       "      <td>False</td>\n",
       "      <td>0</td>\n",
       "      <td>NaN</td>\n",
       "    </tr>\n",
       "    <tr>\n",
       "      <th>7</th>\n",
       "      <td>queryschedule</td>\n",
       "      <td>True</td>\n",
       "      <td>1</td>\n",
       "      <td>3dde3677-0206-4f48-9a69-10f8fd179ca0</td>\n",
       "    </tr>\n",
       "    <tr>\n",
       "      <th>11</th>\n",
       "      <td>querytheme</td>\n",
       "      <td>True</td>\n",
       "      <td>1</td>\n",
       "      <td>e7555cc9-09f3-4fff-b68a-2056117ba3eb</td>\n",
       "    </tr>\n",
       "    <tr>\n",
       "      <th>2</th>\n",
       "      <td>querycontact</td>\n",
       "      <td>True</td>\n",
       "      <td>2</td>\n",
       "      <td>8b682c49-9106-4d8a-801f-d517f03e3654</td>\n",
       "    </tr>\n",
       "    <tr>\n",
       "      <th>8</th>\n",
       "      <td>queryseries</td>\n",
       "      <td>True</td>\n",
       "      <td>2</td>\n",
       "      <td>91ed43c5-d95e-4ffb-8b97-f95a8f7386f1</td>\n",
       "    </tr>\n",
       "    <tr>\n",
       "      <th>9</th>\n",
       "      <td>queryallseries</td>\n",
       "      <td>True</td>\n",
       "      <td>3</td>\n",
       "      <td>6f14ed66-15d3-4ebe-bd12-34eca3c6a9ac</td>\n",
       "    </tr>\n",
       "    <tr>\n",
       "      <th>4</th>\n",
       "      <td>querypeople</td>\n",
       "      <td>True</td>\n",
       "      <td>9</td>\n",
       "      <td>4489820c-036a-4fe1-a22d-2f2b19d7b9bb</td>\n",
       "    </tr>\n",
       "    <tr>\n",
       "      <th>10</th>\n",
       "      <td>querythemes</td>\n",
       "      <td>True</td>\n",
       "      <td>11</td>\n",
       "      <td>da8fc52a-b1c7-44ae-a9b9-e373a5ae63f2</td>\n",
       "    </tr>\n",
       "    <tr>\n",
       "      <th>3</th>\n",
       "      <td>querylocations</td>\n",
       "      <td>True</td>\n",
       "      <td>12</td>\n",
       "      <td>d119f720-9739-43f7-b333-9e05ec9c6344</td>\n",
       "    </tr>\n",
       "    <tr>\n",
       "      <th>5</th>\n",
       "      <td>querysponsors</td>\n",
       "      <td>True</td>\n",
       "      <td>12</td>\n",
       "      <td>91bd2f6c-d803-43bf-bb37-037e75ae70f0</td>\n",
       "    </tr>\n",
       "    <tr>\n",
       "      <th>0</th>\n",
       "      <td>queryconference</td>\n",
       "      <td>True</td>\n",
       "      <td>23</td>\n",
       "      <td>9a9a1962-67c7-4a3b-a5d1-0e78fefd718b</td>\n",
       "    </tr>\n",
       "    <tr>\n",
       "      <th>1</th>\n",
       "      <td>queryconferences</td>\n",
       "      <td>True</td>\n",
       "      <td>44</td>\n",
       "      <td>88c4e0b6-6778-479b-b19c-63b7c16165e7</td>\n",
       "    </tr>\n",
       "  </tbody>\n",
       "</table>\n",
       "</div>"
      ],
      "text/plain": [
       "         schemaTuple  visited  timesVisited  \\\n",
       "6      queryinterval    False             0   \n",
       "7      queryschedule     True             1   \n",
       "11        querytheme     True             1   \n",
       "2       querycontact     True             2   \n",
       "8        queryseries     True             2   \n",
       "9     queryallseries     True             3   \n",
       "4        querypeople     True             9   \n",
       "10       querythemes     True            11   \n",
       "3     querylocations     True            12   \n",
       "5      querysponsors     True            12   \n",
       "0    queryconference     True            23   \n",
       "1   queryconferences     True            44   \n",
       "\n",
       "                                      id  \n",
       "6                                    NaN  \n",
       "7   3dde3677-0206-4f48-9a69-10f8fd179ca0  \n",
       "11  e7555cc9-09f3-4fff-b68a-2056117ba3eb  \n",
       "2   8b682c49-9106-4d8a-801f-d517f03e3654  \n",
       "8   91ed43c5-d95e-4ffb-8b97-f95a8f7386f1  \n",
       "9   6f14ed66-15d3-4ebe-bd12-34eca3c6a9ac  \n",
       "4   4489820c-036a-4fe1-a22d-2f2b19d7b9bb  \n",
       "10  da8fc52a-b1c7-44ae-a9b9-e373a5ae63f2  \n",
       "3   d119f720-9739-43f7-b333-9e05ec9c6344  \n",
       "5   91bd2f6c-d803-43bf-bb37-037e75ae70f0  \n",
       "0   9a9a1962-67c7-4a3b-a5d1-0e78fefd718b  \n",
       "1   88c4e0b6-6778-479b-b19c-63b7c16165e7  "
      ]
     },
     "execution_count": 3,
     "metadata": {},
     "output_type": "execute_result"
    }
   ],
   "source": [
    "query_entries_prod.sort_values(by=['timesVisited'], inplace=True)\n",
    "query_entries_prod"
   ]
  },
  {
   "cell_type": "code",
   "execution_count": 4,
   "metadata": {},
   "outputs": [
    {
     "data": {
      "text/plain": [
       "Text(0.5, 1.0, 'Visisted query entry-points in Troweb')"
      ]
     },
     "execution_count": 4,
     "metadata": {},
     "output_type": "execute_result"
    },
    {
     "data": {
      "image/png": "[encoded data removed]",
      "text/plain": [
       "<Figure size 1008x1440 with 1 Axes>"
      ]
     },
     "metadata": {
      "needs_background": "light"
     },
     "output_type": "display_data"
    }
   ],
   "source": [
    "plt.figure(figsize=(14, 20))\n",
    "plt.barh(query_entries_prod[\"schemaTuple\"].str.replace(\"query\", \"\"), \n",
    "         query_entries_prod[\"timesVisited\"], \n",
    "         align='center',\n",
    "         color='teal')\n",
    "plt.xlabel('Times visited')\n",
    "plt.ylabel('Query entry-point')\n",
    "plt.title('Visisted query entry-points in Troweb')"
   ]
  }
 ],
 "metadata": {
  "kernelspec": {
   "display_name": "Python 3",
   "language": "python",
   "name": "python3"
  },
  "language_info": {
   "codemirror_mode": {
    "name": "ipython",
    "version": 3
   },
   "file_extension": ".py",
   "mimetype": "text/x-python",
   "name": "python",
   "nbconvert_exporter": "python",
   "pygments_lexer": "ipython3",
   "version": "3.7.6"
  }
 },
 "nbformat": 4,
 "nbformat_minor": 4
}
